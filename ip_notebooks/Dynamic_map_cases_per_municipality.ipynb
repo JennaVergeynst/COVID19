{
 "cells": [
  {
   "cell_type": "markdown",
   "metadata": {},
   "source": [
    "# Imports"
   ]
  },
  {
   "cell_type": "code",
   "execution_count": 1,
   "metadata": {
    "ExecuteTime": {
     "end_time": "2020-05-15T15:46:50.212222Z",
     "start_time": "2020-05-15T15:46:45.705815Z"
    }
   },
   "outputs": [],
   "source": [
    "import pandas as pd \n",
    "import numpy as np\n",
    "from datetime import datetime, timedelta\n",
    "import geopandas\n",
    "import matplotlib.pyplot as plt\n",
    "import matplotlib.animation\n",
    "from matplotlib.animation import FuncAnimation\n",
    "import mapclassify\n",
    "import matplotlib.patches as mpatches\n",
    "\n",
    "import sys\n",
    "sys.path.insert(0, \"/Users/jennavergeynst/OneDrive - UGent/Corona_Postdoc/Analyses/tools\")\n",
    "from plotting import add_scalebar, add_north_arrow"
   ]
  },
  {
   "cell_type": "markdown",
   "metadata": {},
   "source": [
    "pip install celluloid"
   ]
  },
  {
   "cell_type": "markdown",
   "metadata": {},
   "source": [
    "# Prepare community shapes"
   ]
  },
  {
   "cell_type": "markdown",
   "metadata": {
    "ExecuteTime": {
     "end_time": "2020-05-15T11:46:51.766283Z",
     "start_time": "2020-05-15T11:46:51.757576Z"
    }
   },
   "source": [
    "Origin shapefile:\n",
    "\n",
    "https://ac.ngi.be/remoteclient-open/ngi-standard-open/Vectordata/AdminVector/AdminVector_L08_shp.zip\n"
   ]
  },
  {
   "cell_type": "code",
   "execution_count": null,
   "metadata": {
    "ExecuteTime": {
     "end_time": "2020-05-13T08:40:20.738521Z",
     "start_time": "2020-05-13T08:40:20.128117Z"
    }
   },
   "outputs": [],
   "source": [
    "communities_geom = geopandas.read_file('../data/NGI_AdminVector_L08_shp/AD_2_Municipality.shp')\n",
    "NGI_url = 'zip+https://ac.ngi.be/remoteclient-open/ngi-standard-open/Vectordata/AdminVector/AdminVector_L08_shp.zip'\n",
    "communities_geom.NISCode = communities_geom.NISCode.astype(int)\n",
    "communities_geom = communities_geom[['NISCode','geometry']]"
   ]
  },
  {
   "cell_type": "code",
   "execution_count": null,
   "metadata": {
    "ExecuteTime": {
     "end_time": "2020-05-13T10:44:58.718207Z",
     "start_time": "2020-05-13T10:44:56.347775Z"
    }
   },
   "outputs": [],
   "source": [
    "# read inhabitants\n",
    "url_inhabitants = 'https://statbel.fgov.be/sites/default/files/files/documents/bevolking/5.1%20Structuur%20van%20de%20bevolking/Bevolking_per_gemeente.xlsx'\n",
    "inhabitants = pd.read_excel(url_inhabitants, skipfooter=4, skiprows=1).dropna(how='all', axis=0)\n",
    "inhabitants['NIS code'] = inhabitants['NIS code'].astype(int)\n"
   ]
  },
  {
   "cell_type": "code",
   "execution_count": null,
   "metadata": {
    "ExecuteTime": {
     "end_time": "2020-05-13T10:45:02.829731Z",
     "start_time": "2020-05-13T10:45:02.817338Z"
    }
   },
   "outputs": [],
   "source": [
    "## Uncomment to save locally:\n",
    "#inhabitants.to_csv('../data/inhabitants.csv')\n",
    "## Uncomment to read locally:\n",
    "#inhabitants = pd.read_csv('../data/inhabitants.csv')"
   ]
  },
  {
   "cell_type": "code",
   "execution_count": null,
   "metadata": {
    "ExecuteTime": {
     "end_time": "2020-05-13T10:45:03.450134Z",
     "start_time": "2020-05-13T10:45:03.432125Z"
    }
   },
   "outputs": [],
   "source": [
    "communities = pd.merge(communities_geom, inhabitants, left_on = 'NISCode', right_on = 'NIS code').drop(columns=['NIS code'])\n",
    "communities = communities.rename(columns={'Totaal':'inhabitants'})"
   ]
  },
  {
   "cell_type": "code",
   "execution_count": null,
   "metadata": {
    "ExecuteTime": {
     "end_time": "2020-05-13T10:45:04.873565Z",
     "start_time": "2020-05-13T10:45:03.996366Z"
    }
   },
   "outputs": [],
   "source": [
    "communities.plot('inhabitants')"
   ]
  },
  {
   "cell_type": "markdown",
   "metadata": {},
   "source": [
    "# Read sciensano data"
   ]
  },
  {
   "cell_type": "code",
   "execution_count": null,
   "metadata": {
    "ExecuteTime": {
     "end_time": "2020-05-13T11:01:47.864410Z",
     "start_time": "2020-05-13T11:01:47.857847Z"
    }
   },
   "outputs": [],
   "source": [
    "## To update data until yesterday\n",
    "#datelist = pd.date_range(start = pd.to_datetime('2020-03-31'), end = datetime.today() - timedelta(days=1)).strftime(\"%Y%m%d\")\n",
    "datelist = pd.date_range(start = pd.to_datetime('2020-03-31'), end = pd.to_datetime('2020-05-11')).strftime(\"%Y%m%d\")"
   ]
  },
  {
   "cell_type": "code",
   "execution_count": null,
   "metadata": {
    "ExecuteTime": {
     "end_time": "2020-05-13T11:01:48.186405Z",
     "start_time": "2020-05-13T11:01:48.181362Z"
    }
   },
   "outputs": [],
   "source": [
    "datelist = list(datelist) + [datelist[-1]]*20"
   ]
  },
  {
   "cell_type": "code",
   "execution_count": null,
   "metadata": {
    "ExecuteTime": {
     "end_time": "2020-05-12T08:13:09.480696Z",
     "start_time": "2020-05-12T08:13:09.477750Z"
    }
   },
   "outputs": [],
   "source": [
    "## Safe data locally (to be safe)\n",
    "# for date in datelist:\n",
    "#     url = 'https://epistat.sciensano.be/Data/'+ date +'/COVID19BE_CASES_MUNI_CUM_'+ date +'.csv'\n",
    "#     cases_day_x = pd.read_csv(url, encoding = \"ISO-8859-1\", skipfooter=1).dropna(axis=0, how='all').copy()\n",
    "#     cases_day_x.to_csv('../data/cumulative_cases_per_community/'+'COVID19BE_CASES_MUNI_CUM_'+ date +'.csv')"
   ]
  },
  {
   "cell_type": "code",
   "execution_count": null,
   "metadata": {
    "ExecuteTime": {
     "end_time": "2020-05-13T10:45:08.738665Z",
     "start_time": "2020-05-13T10:45:08.732221Z"
    }
   },
   "outputs": [],
   "source": [
    "def prepare_case_data(date, read_local = True):\n",
    "    if read_local == True:\n",
    "        cases_day_x = pd.read_csv('../data/cumulative_cases_per_community/'+'COVID19BE_CASES_MUNI_CUM_'+ date +'.csv')\n",
    "    else:\n",
    "        url = 'https://epistat.sciensano.be/Data/'+ date +'/COVID19BE_CASES_MUNI_CUM_'+ date +'.csv'\n",
    "        cases_day_x = pd.read_csv(url, encoding = \"ISO-8859-1\", skipfooter=1).dropna(axis=0, how='all').copy()\n",
    "    cases_day_x.NIS5 = cases_day_x.NIS5.astype(int)\n",
    "    cases_day_x = cases_day_x[['NIS5','TX_DESCR_NL','CASES']].copy()\n",
    "    # Assume <5 cases to be 3 cases\n",
    "    cases_day_x.loc[cases_day_x.CASES.str.find('<')!=-1, 'CASES'] = '3'\n",
    "    cases_day_x.CASES = cases_day_x.CASES.astype(int)\n",
    "    return cases_day_x"
   ]
  },
  {
   "cell_type": "code",
   "execution_count": null,
   "metadata": {
    "ExecuteTime": {
     "end_time": "2020-05-13T10:45:08.946832Z",
     "start_time": "2020-05-13T10:45:08.940944Z"
    }
   },
   "outputs": [],
   "source": [
    "def prepare_plot_data(date):\n",
    "    cases_day_x = prepare_case_data(date)\n",
    "    cases_with_geo = pd.merge(communities[['NISCode', 'geometry', 'inhabitants']] , cases_day_x[['NIS5','CASES']], left_on = 'NISCode', right_on = 'NIS5')\n",
    "    cases_with_geo['cases_per_100000'] = cases_with_geo.CASES/cases_with_geo.inhabitants*100000\n",
    "    return cases_with_geo"
   ]
  },
  {
   "cell_type": "markdown",
   "metadata": {},
   "source": [
    "# Make map"
   ]
  },
  {
   "cell_type": "markdown",
   "metadata": {},
   "source": [
    "https://geopandas.org/mapping.html\n",
    "\n",
    "mapclassify:\n",
    "https://nbviewer.jupyter.org/github/pysal/mapclassify/blob/master/notebooks/south.ipynb\n",
    "\n",
    "time formats:\n",
    "https://docs.python.org/3/library/datetime.html#strftime-and-strptime-format-codes\n",
    "\n",
    "interactive animation:\n",
    "https://nbviewer.jupyter.org/github/jakevdp/JSAnimation/blob/master/animation_example.ipynb"
   ]
  },
  {
   "cell_type": "markdown",
   "metadata": {},
   "source": [
    "**For now: just a dynamic GIF!**"
   ]
  },
  {
   "cell_type": "code",
   "execution_count": null,
   "metadata": {
    "ExecuteTime": {
     "end_time": "2020-05-13T10:45:21.594492Z",
     "start_time": "2020-05-13T10:45:21.553973Z"
    }
   },
   "outputs": [],
   "source": [
    "cases_with_geo = prepare_plot_data(datelist[0])"
   ]
  },
  {
   "cell_type": "markdown",
   "metadata": {},
   "source": [
    "**fisher_jenks scheme**: seeks to reduce the variance within classes and maximize the variance between classes (This is done by seeking to minimize each class's average deviation from the class mean, while maximizing each class's deviation from the means of the other groups.)\n",
    "\n",
    "http://darribas.org/gds15/content/labs/lab_04.html"
   ]
  },
  {
   "cell_type": "code",
   "execution_count": null,
   "metadata": {
    "ExecuteTime": {
     "end_time": "2020-05-13T10:45:25.017314Z",
     "start_time": "2020-05-13T10:45:23.590217Z"
    }
   },
   "outputs": [],
   "source": [
    "last = prepare_plot_data(datelist[-2])\n",
    "classi = mapclassify.FisherJenks(last['cases_per_100000'], k=7)\n",
    "FJ_bins = classi.bins.round(-1).astype(int)\n",
    "FJ_bins = [0]+list(FJ_bins)\n",
    "FJ_bins[-1] = 100000"
   ]
  },
  {
   "cell_type": "code",
   "execution_count": null,
   "metadata": {
    "ExecuteTime": {
     "end_time": "2020-05-13T10:45:25.078501Z",
     "start_time": "2020-05-13T10:45:25.054137Z"
    }
   },
   "outputs": [],
   "source": [
    "pd.cut(last['cases_per_100000'], bins= FJ_bins).value_counts()"
   ]
  },
  {
   "cell_type": "code",
   "execution_count": null,
   "metadata": {
    "ExecuteTime": {
     "end_time": "2020-05-13T10:45:26.147048Z",
     "start_time": "2020-05-13T10:45:26.141330Z"
    }
   },
   "outputs": [],
   "source": [
    "# Prepare labels\n",
    "lower_lims = [str(x) for x in FJ_bins[:-1]]\n",
    "lower_lims[-1] = '> '+lower_lims[-1]\n",
    "upper_lims = [' - ' + str(x) for x in FJ_bins[1:]]\n",
    "upper_lims[-1] = ''\n",
    "labels = [x+y for x,y in zip(lower_lims, upper_lims)]"
   ]
  },
  {
   "cell_type": "code",
   "execution_count": null,
   "metadata": {
    "ExecuteTime": {
     "end_time": "2020-05-13T10:45:41.092886Z",
     "start_time": "2020-05-13T10:45:27.500871Z"
    }
   },
   "outputs": [],
   "source": [
    "# union belgium \n",
    "Belgium = last.unary_union"
   ]
  },
  {
   "cell_type": "code",
   "execution_count": null,
   "metadata": {
    "ExecuteTime": {
     "end_time": "2020-05-13T11:23:58.605885Z",
     "start_time": "2020-05-13T11:23:57.400385Z"
    }
   },
   "outputs": [],
   "source": [
    "fig, ax = plt.subplots(dpi=150, figsize=(8,8))\n",
    "\n",
    "last.plot(column=pd.cut(last['cases_per_100000'], bins= FJ_bins), cmap='Oranges', \n",
    "          legend=True, ax=ax, vmin=-1, vmax=6)\n",
    "leg = ax.get_legend()\n",
    "patches = [mpatches.Patch(color=p.get_markerfacecolor()) for p in leg.legendHandles]\n",
    "ax.legend(patches, labels, loc = (0, 0.1), frameon=False, bbox_transform=ax.transAxes, title='# infected / 100000')\n"
   ]
  },
  {
   "cell_type": "code",
   "execution_count": null,
   "metadata": {
    "ExecuteTime": {
     "end_time": "2020-05-13T10:58:40.517792Z",
     "start_time": "2020-05-13T10:58:40.509837Z"
    }
   },
   "outputs": [],
   "source": [
    "def cleaned_plot(date, ax):\n",
    "    ax.set_axis_off()\n",
    "\n",
    "    temp = prepare_plot_data(date)\n",
    "    temp.plot(column=pd.cut(temp['cases_per_100000'], bins= FJ_bins), cmap='Oranges', \n",
    "              legend=False, ax=ax, vmin=-1, vmax=6)\n",
    "    ax.legend(patches, labels, loc = (0, 0.1), frameon=False, bbox_transform=ax.transAxes, title='# infected / 100000')\n",
    "\n",
    "    geopandas.GeoSeries([Belgium.boundary]).plot(ax=ax, color='k', lw=0.1)\n",
    "\n",
    "    add_north_arrow(ax, (0.9, 0.1))\n",
    "    add_scalebar(ax, (512000, 510030), length=50000, fac=' 50 km')\n",
    "    \n",
    "    ax.set_title('Cumulative cases per municipality on ' + pd.to_datetime(date).strftime('%d %B %Y'))\n",
    "    \n",
    "    return ax"
   ]
  },
  {
   "cell_type": "code",
   "execution_count": null,
   "metadata": {
    "ExecuteTime": {
     "end_time": "2020-05-13T11:57:09.606857Z",
     "start_time": "2020-05-13T11:57:09.598499Z"
    }
   },
   "outputs": [],
   "source": [
    "def anim_func(frame, *fargs):\n",
    "    ax,  = fargs\n",
    "    extent = ax.axis()\n",
    "    ax.clear()\n",
    "    ax = cleaned_plot(frame, ax)\n",
    "    ax.axis(extent)\n",
    "    ax.set_axis_off()\n",
    "    ax.get_figure().tight_layout()\n",
    "    return ax"
   ]
  },
  {
   "cell_type": "code",
   "execution_count": null,
   "metadata": {
    "ExecuteTime": {
     "end_time": "2020-05-13T14:33:34.272594Z",
     "start_time": "2020-05-13T14:33:32.444912Z"
    },
    "scrolled": false
   },
   "outputs": [],
   "source": [
    "fig, ax = plt.subplots(figsize=(8,8))\n",
    "ax = cleaned_plot(datelist[0], ax)\n",
    "fig.tight_layout()\n",
    "anim = matplotlib.animation.FuncAnimation(fig, anim_func, frames=datelist, fargs=(ax, ), interval=250)"
   ]
  },
  {
   "cell_type": "code",
   "execution_count": null,
   "metadata": {
    "ExecuteTime": {
     "end_time": "2020-05-13T14:34:19.141382Z",
     "start_time": "2020-05-13T14:33:39.741759Z"
    }
   },
   "outputs": [],
   "source": [
    "anim.save(\"../results/map_cases_dynamic.gif\", writer='imagemagick', savefig_kwargs=dict(bbox_inches='tight'))#, savefig_kwargs=dict(bbox='tight'))"
   ]
  },
  {
   "cell_type": "code",
   "execution_count": null,
   "metadata": {},
   "outputs": [],
   "source": []
  },
  {
   "cell_type": "code",
   "execution_count": null,
   "metadata": {
    "ExecuteTime": {
     "end_time": "2020-05-13T11:09:27.397875Z",
     "start_time": "2020-05-13T11:09:27.394133Z"
    }
   },
   "outputs": [],
   "source": [
    "#anim.to_html5_video()"
   ]
  },
  {
   "cell_type": "markdown",
   "metadata": {},
   "source": [
    "# Html example"
   ]
  },
  {
   "cell_type": "code",
   "execution_count": null,
   "metadata": {},
   "outputs": [],
   "source": [
    "from bokeh.io import output_notebook, show\n",
    "from bokeh.resources import INLINE\n",
    "output_notebook(resources=INLINE)"
   ]
  },
  {
   "cell_type": "code",
   "execution_count": null,
   "metadata": {},
   "outputs": [],
   "source": [
    "from bokeh.plotting import figure\n",
    "from bokeh.resources import CDN\n",
    "from bokeh.embed import file_html\n",
    "\n",
    "plot = figure()\n",
    "plot.circle([1,2], [3,4])\n",
    "\n",
    "html = file_html(plot, CDN, \"my plot\")\n"
   ]
  },
  {
   "cell_type": "code",
   "execution_count": null,
   "metadata": {},
   "outputs": [],
   "source": [
    "show(plot)"
   ]
  },
  {
   "cell_type": "code",
   "execution_count": null,
   "metadata": {},
   "outputs": [],
   "source": [
    "print(html)"
   ]
  },
  {
   "cell_type": "code",
   "execution_count": null,
   "metadata": {},
   "outputs": [],
   "source": []
  }
 ],
 "metadata": {
  "kernelspec": {
   "display_name": "Python 3",
   "language": "python",
   "name": "python3"
  },
  "language_info": {
   "codemirror_mode": {
    "name": "ipython",
    "version": 3
   },
   "file_extension": ".py",
   "mimetype": "text/x-python",
   "name": "python",
   "nbconvert_exporter": "python",
   "pygments_lexer": "ipython3",
   "version": "3.8.2"
  },
  "toc": {
   "base_numbering": 1,
   "nav_menu": {},
   "number_sections": true,
   "sideBar": true,
   "skip_h1_title": false,
   "title_cell": "Table of Contents",
   "title_sidebar": "Contents",
   "toc_cell": false,
   "toc_position": {},
   "toc_section_display": true,
   "toc_window_display": false
  }
 },
 "nbformat": 4,
 "nbformat_minor": 4
}
